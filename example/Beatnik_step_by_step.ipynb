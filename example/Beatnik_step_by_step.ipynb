{
 "cells": [
  {
   "cell_type": "markdown",
   "metadata": {},
   "source": [
    "## Beatnik Step by Step\n",
    "\n",
    "This is a step by step tutorial for the usage of beatnik Library"
   ]
  },
  {
   "cell_type": "markdown",
   "metadata": {},
   "source": [
    "### Install Library"
   ]
  },
  {
   "cell_type": "code",
   "execution_count": null,
   "metadata": {},
   "outputs": [],
   "source": [
    "!pip install beatnik --upgrade"
   ]
  },
  {
   "cell_type": "markdown",
   "metadata": {},
   "source": [
    "### Import Library"
   ]
  },
  {
   "cell_type": "code",
   "execution_count": null,
   "metadata": {},
   "outputs": [],
   "source": [
    "import beatnik\n",
    "import re"
   ]
  },
  {
   "cell_type": "code",
   "execution_count": null,
   "metadata": {},
   "outputs": [],
   "source": [
    "#insert a part of your text\n",
    "text = '''\n",
    "Sind Zeichen oder Programmierkenntnisse somit Texte, wenn Entscheidungsfindungen statt in Zusammenhang mit uns in einem größeren Kontext (also im System: Material) stehen?\n",
    "He Hazardous\n",
    "of we strong\n",
    "follow bacteria walks\n",
    "by town guy place\n",
    "Er stand neben mir,\n",
    "sprach er Sätze, dass nicht von mir versteht wurden.\n",
    "bis übermorgen, blieben die Sätze mir im Gedächtnis.\n",
    "fünf verschiedene Grammatiken, verwendente er.\n",
    "Schritt für Schritt. Ohne jede vernünftige Struktur, gabe er mir.\n",
    "Farbe, dass niemand viel findet, wurde gezeigt.\n",
    "aus der und die\n",
    "alle in alt\n",
    "und das land schiß\n",
    "sang der haß der flöhe für die hysterischen und ausgeschlossenen frauen\n",
    "Of neighborhood reputation:\n",
    "Doubted empty buses’ land  A very cold girl  Taxi of attempt\n",
    "By Paris’ gestures\n",
    "Man sagt, dass alle Übersetzungen nur für den Leser sind. Werke dienen nur der Hörerschaft, oder? Es gibt Werke, die dienen. Es gibt überdies Leben – das doppelsinnige Dichterische oder geheimnisvolle Bild. Es gilt: Wesentliche Übersetzer, das sind Dichter. Genug für den Augenblick, oder nicht? Darauf: translate!\n",
    "sing walfisch! vorhin loesten anderswo dicke boote ihre anker.\n",
    "Man sagt, dass alle Übersetzungen nur für den Leser sind. Genug, denn gegenüber gibt es eines Dichtung. tongue teilt doppelsinnig tongue teilt mutter tongue macht übel oder grundsätzlich nicht translate.\n",
    "mit Körperflüssigkeiten verschwimmen mit Resilienz Poren mit Erderwärmung nicht sich.\n",
    "'''"
   ]
  },
  {
   "cell_type": "markdown",
   "metadata": {},
   "source": [
    "### tokenize the text\n",
    "This part of text is impliment in function \"preprocess\"\n",
    "\n",
    "```python\n",
    "token = beatnik.preprocess(text)\n",
    "```"
   ]
  },
  {
   "cell_type": "code",
   "execution_count": null,
   "metadata": {},
   "outputs": [],
   "source": [
    "text=text.replace(\"ä\",\"ae\").replace(\"Ä\",\"Ae\").replace(\"ö\",\"oe\").replace(\"Ö\",\"oe\").replace(\"ü\",\"ue\").replace(\"Ü\",\"ue\")\n",
    "remove_digits = str.maketrans('', '', '0123456789')\n",
    "text = text.translate(remove_digits)\n",
    "textt = re.sub(r'[^\\w\\s]','',text)\n",
    "word = textt.split()"
   ]
  },
  {
   "cell_type": "markdown",
   "metadata": {},
   "source": [
    "### Scrabble the value\n",
    "\n",
    "Define a function for scrabble.\n",
    "\n",
    "Create an empty array, then append all converted value into it.\n",
    "Function is already built-in, try the follow code to access it.\n",
    "\n",
    "```python\n",
    "VALUE = []\n",
    "for i in word:\n",
    "    value = beatnik.scrabble(i)\n",
    "    VALUE.append(value)\n",
    "```"
   ]
  },
  {
   "cell_type": "code",
   "execution_count": null,
   "metadata": {},
   "outputs": [],
   "source": [
    "def scrabble(word):\n",
    "    SCRABBLE = {\n",
    "        'A': 1,\n",
    "        'B': 3,\n",
    "        'C': 3,\n",
    "        'D': 2,\n",
    "        'E': 1,\n",
    "        'F': 4,\n",
    "        'G': 2,\n",
    "        'H': 4,\n",
    "        'I': 1,\n",
    "        'J': 8,\n",
    "        'K': 5,\n",
    "        'L': 1,\n",
    "        'M': 3,\n",
    "        'N': 1,\n",
    "        'O': 1,\n",
    "        'P': 3,\n",
    "        'Q': 10,\n",
    "        'R': 1,\n",
    "        'S': 1,\n",
    "        'T': 1,\n",
    "        'U': 1,\n",
    "        'V': 4,\n",
    "        'W': 4,\n",
    "        'X': 8,\n",
    "        'Y': 4,\n",
    "        'Z': 10\n",
    "    }\n",
    "    acc = 0\n",
    "    for c in word.upper():\n",
    "        acc += SCRABBLE[c]\n",
    "    return acc\n",
    "\n",
    "\n",
    "VALUE = []\n",
    "for i in word:\n",
    "    value = scrabble(i)\n",
    "    VALUE.append(value)"
   ]
  },
  {
   "cell_type": "markdown",
   "metadata": {},
   "source": [
    "### Run Stack machine\n",
    "\n",
    "set debug to true to show process running in stack machine."
   ]
  },
  {
   "cell_type": "code",
   "execution_count": null,
   "metadata": {},
   "outputs": [],
   "source": [
    "beatnik_stack(word,VALUE,debug=False)"
   ]
  }
 ],
 "metadata": {
  "kernelspec": {
   "display_name": "Python 3",
   "language": "python",
   "name": "python3"
  },
  "language_info": {
   "codemirror_mode": {
    "name": "ipython",
    "version": 3
   },
   "file_extension": ".py",
   "mimetype": "text/x-python",
   "name": "python",
   "nbconvert_exporter": "python",
   "pygments_lexer": "ipython3",
   "version": "3.8.3"
  }
 },
 "nbformat": 4,
 "nbformat_minor": 4
}
