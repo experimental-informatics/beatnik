{
 "cells": [
  {
   "cell_type": "markdown",
   "metadata": {},
   "source": [
    "# Selected Word value Data #"
   ]
  },
  {
   "cell_type": "markdown",
   "metadata": {},
   "source": [
    "### Deutsch\n",
    "***5: Push*** <br>\n",
    "allen, aller, alles, alten, alter, bei, **bin*, **bis*, **dann*, **dass*, daß, **denn*, einen, einer, eines, eitle, ende, erste, gott, lang, leser, **man*, **mit*, **oder*, orten, rede, roter, rund, saele, sage, seien, seine, seite, sind, solle, sonst, stets, taten, total, unten, unter, wo, \n",
    "\n",
    "\n",
    "***6: Pop***   <br> \n",
    "aber, auf, augen, autors, außer, bist, brot, darin, daten, deine, dem, denen, deren, diese, eitlen, engen, ersten, erstes, gab, gang, genau, groß, hat, ihn, ihr, innern, laesst, laeßt, lange, lassen, leib, linien, loesen, mag, mann, mein, mloe, muss, muß, nennen, oft, paar, part, regal, reines, sagen, sagte, seinen, seiten, selten, sollte, stelle, stieß, the, todes, unsinn, urteil, **von*, vor, war, was, wer, wie, wir\n",
    "\n",
    "\n",
    "***7: ADD***   <br> \n",
    "aeterno, allem, amtes, andere, bald, band, barg, beda, beste, by, deines, dessen, diesen, dieser, dieses, donner, ehre, einem, einige, etwa, fast, fest, fuer, gabe, genug, gibt, gottes, grab, grund, hier, ihre, leidet, lettern, letters, luft, meine, mem, mitte, namen, ohne, raserei, raums, regale, region, sagten, secii, sehr, silbe, sinnlos, sollten, stange, steigt, stellte, this, totales, tragen, trautes, tunnels, ueber, unteren, viel, vier, welt, wenn, wert, will, \n",
    "\n",
    "\n",
    "***8: INPUT***  <br> \n",
    "anderen, anderer, anderes, arbeit, arcana, ausarten, beim, birgt, bogen, breite, **damit*, debil, dream, dritten, einigen, einsam, elegant, erinnern, erlassen, **etwas*, faßt, ferne, fund, gaenge, galerie, geben, gelesen, gereist, gering, gingen, großen, guarani, guenter, haelt, halte, heute, **ich*, **ihm*, ihnen, ihrer, ihres, irgend, kann, **kein*, kino, laengst, latrinen, leugnen, lieber, loesung, lustige, may, meilen, meiner, moege, naehe, **normal*, oberen, pointe, regalen, reihe, sahen, sehen, selbst, sieben, sondern, sowie, spuren, steht, stießen, strenge, tausend, these, truegen, unserere, vage, vater, **viele*, **vom*, waere, wage, wand, waren, weise, weiß, wesen, wind, wird, worte, \n",
    "\n",
    "\n",
    "***9: OUTPUT*** <br>\n",
    "abtritt, angibt, **auch*, babel, baende, bereits, borges, damals, deutung, diesem, duestere, einander, empor, epistel, erlaubt, ex, faden, fades, fielen, folgt, form, freien, gaengen, galerien, gattung, gelebt, genialen, geringe, getoetet, getreuen, glaube, goettern, groben, **habe*, haette, halten, **heißt*, herren, hoelle, immer, inhalt, interesse, **keine*, kenne, kults, laeuft, laufen, lenkt, links, maenner, mehr, moegen, nach, nimmt, **noch*, ordnung, pilger, regionen, sekte, **sich*, sinnloser, soviel, starben, stehen, stellung, sterben, stufen, suppe, tacitus, tausende, tiefer, traeume, traumen, umsonst, unnoetig, vielen, voller, weder, **wegen*, weiten, weiter, wissen, worten, wurde, \n",
    "\n",
    "***10: SUBTRACT***<br>\n",
    "abstand, anfang, arbeiten, baenden, beredte, bestand, betitelt, bevor, bildern, boergen, dafuer, dagegen, darauf, doch, dreißig, einband, einstellen, eleganten, elemente, entgegen, erfasst, erfreut, erhaelt, erlaeutern, erlaubte, ersieht, ewiger, farbe, finden, findet, folgen, folgte, fragen, geboren, gestaltet, gewiß, glaubte, haben, haende, hieraus, hinab, kaum, keinen, keiner, koenne, konnte, laeuterern, lampen, licht, meinung, mueßten, nicht, niemand, normalen, opfer, personen, praesens, recht, reisenden, relativ, reporter, schon, sinken, spiegel, staendig, suche, thema, theorie, treppe, tuerke, ueberall, umstand, waende, wahn, wenige, werden, wieder, woerter, wohl, worden, wuerde, wurden, \n",
    "\n",
    "***11: SWAP***<br>\n",
    "abgrund, absoluten, analysis, andeutung, anordnung, appetit, ausgeloest, beamten, blaettern, bleiben, buch, darstellen, denken, denker, dieselbe, duerfen, dunkel, durch, echten, einfluß, eishalle, ekstase, elementen, enthaelt, entlegenen, entlegener, ergebnis, erhalten, erlaubten, erwartet, flehe, fuenf, gelaender, gesehen, greifen, hoehe, hueteten, idealisten, irgendein, koennen, kuessen, mich, millionen, mithin, nichts, niedrigen, plunders, polierten, punkt, rechts, reicht, reportare, schein, schien, sicher, suchen, sucher, system, traktat, treppen, uebrigen, umgangs, unordnung, ursprung, variante, verliert, verloren, voellig, vorbei, weniger, werk, woertern, zu, \n",
    "\n",
    "***12: DUPLICATE***<br>\n",
    "abenteuern, anatomy, aufloesen, ausuebung, basilides, beinahe, beispiel, chef, darstelung, derselben, dialekt, dieselben, entfallen, erfinder, etliche, folgerte, formats, fuehrt, geheim, gelaendern, getrieben, gleich, gottheit, hinauf, hoch, hoeher, interessante, irgendenes, jede, jener, katalog, kluft, kuehn, lebendig, macht, mehrere, minutioese, notdurft, pilgerten, postuliert, raesonierten, reportage, resuemiere, schauer, schlug, schluss, schritt, spannende, sphaere, stilmittel, tautologien, texte, umfang, umfasse, urheber, variation, vergißt, verstand, wanderer, werfen, werke, zur, \n",
    "\n",
    "***16: SKIP_BACK_NONZERO***<br>\n",
    "aberglauben, anschauung, argumentieren, argwoehne, artikulieren, ausfuehren, banditentum, beantworten, behaupten, bemerken, berichtet, dreihundert, einsamkeit, einzig, entdecken, evangelium, ewigkeit, existiert, falscher, fanatiker, fehlbare, feststellung, fiebernden, formulieren, fruehesten, gesetz, getreulich, geweihten, gnostische, goettliche, grundlegende, haeufiger, identische, jahren, **jemand*, kindheit, konsultieren, korrekte, letzten, lokalisieren, nachweis, nutzlos, platz, pyramide, richtungen, rudimentaeren, schlafen, schreiben, seßhaften, sturzes, tragischen, uebertragung, unendliche, unternehmen, vergangenen, verheißen, versuche, verwendet, wechseln, wechsels, **wozu*, wundersame, zahl, zeigte, **zwar*, **zwei* \n",
    "\n",
    "***17: STOP***<br>\n",
    "allbekannte, asketenwut, aufhaenger, aufnehmen, bedachten, begriffe, bekommt, contemplate, eindruecke, einzige, erblickte, erhoffte, evangeliums, existieren, existierte, fachleute, fruchtete, fruechten, gewappnet, gewißheit, goettlichen, grenzen, herrschte, interpolationen, kommentar, konsektur, kuenftige, lichtvoll, **manchmal*, moegliche, mystiker, natuerlichen, neunzig, offenbare, organischen, phantasmen, pluenderungen, pyramiden, saemtliche, schwerste, selbstmorden, stundenloehne, typisch, ueberflogen, unendlichen, unwandelbar, verfassung, verwandeln, wahnsinnig, wahrheit, wallraff, widerlegung, wiederhole, wiederholt, zeigten, zeugnis, zitieren, zuvor"
   ]
  },
  {
   "cell_type": "markdown",
   "metadata": {},
   "source": [
    "### English\n",
    "***5: Push***  <br>act, aeons, ague, ah, alter, anion, antes, arm, arras, arson, asp, asses, atlas, atoll, autos, ay, bet, **but*, **can*, dean, dear, **did*, diet, does, done, dons, door, dost, dour, dull, dust, earns, edit, egg, ends, enter, enure, erase, ergs, euros, gad, gain, gate, gets, gill, goal, god, **goes*, gone, goon, gore, gout, guil, guts, ha, **he*, idea, idle, idol, if, iv, lab, lade, lags, laid, land, lanes, lap, lard, lasso, later, leans, lines, lip, lists, load, loner, long, lord, loser, loud, louts, lugs, man, mar, met, nears, need, nests, noses, nude, oaten, of, onset, orb, pal, pan, par, pol, put, rains, rang, rares, read, redo, rents, rep, rind, riots, rites, road, rosin, rotor, ruins, rules, said, saint, saner, senna, silts, sing, sisal, sled, slier, sloes, slues, snarl, snots, soars, sonar, sores, souls, sours, stars, start, state, stile, stilt, strut, stuns, stunt, suds, sum, surer, tags, tails, talon, taste, tells, tense, tests, tied, tines, title, toad, toed, toga, told, top, torso, torte, torus, tries, truss, tunas, tuner, tutor, unite, units, until, used, users, usual, utter, vi, **we*\n",
    "\n",
    "***6: Pop***   <br> \n",
    "again, agree, angus, atonal, bad, **been*, beer, cant, cure, dead, deed, entire, erode, for, glint, good, gross, **has*, **her*, hes, **his*, learns, letter, linnet, little, meet, mine, must, nice, now, nurses, post, raises, same, say, she, the, time, titles, truant, two, unless, was, yet, **you*, \n",
    "\n",
    "\n",
    "***7: ADD***  <br> \n",
    "about, acres, aerials, agents, alarm, arty, atlases, beans, bears, blunt, boats, bones, borne, brig, bruit, by, coins, cores, costs, court, crud, cruel, curio, day, dilute, dirge, disses, dourer, dread, ended, evil, eyes, fail, fain, fair, fall, fear, fed, feel, file, fire, flee, flit, fran, free, fret, gainst, gangs, garb, gelds, genies, genius, glob, goads, gobs, goiter, gram, grease, grunts, gums, gusset, guy, halo, hats, hear, heir, here, hits, hour, idlers, indent, instant, insults, insurer, ironed, laertes, lapse, larger, legals, letters, life, live, loaners, love, lupus, made, manor, mario, means, meets, mind, mob, moles, mount, mouse, muses, my, nailed, names, natural, natures, news, niobe, noble, oaring, only, osric, over, parse, pasta, pates, pearl, print, purer, purse, radial, raring, reasons, reeled, region, rely, remit, rested, retries, revs, riotous, roams, ropes, rosters, roused, rows, runners, saltest, sarong, sauted, save, says, scars, serious, shes, shot, siting, sitters, slope, spell, spurs, stay, steps, stings, stolid, stooge, stops, sultana, sunless, sunnier, sunrise, tallest, tapes, tattles, teared, tenures, than, that, thee, then, this, thou, tibia, timer, titters, toilets, tumor, tush, united, unsold, urgent, usurers, utensil, vast, vine, want, weir, well, went, were, will, your, \n",
    "\n",
    "\n",
    "***8: INPUT***<br> \n",
    "action, after, against, armed, asleep, battle, blood, cannot, castle, cubs, dining, feast, fled, flees, grace, hails, ham, head, held, **hello*, **him*, holes, kill, lady, named, pager, prints, rapid, reacts, realises, secret, settled, shall, shalt, share, shed, silly, sitting, smells, stresses, tedious, thane, **their*, **these*, **those*, three, trailers, treasure, truth, visit, wrote\n",
    "\n",
    "\n",
    "***9: OUTPUT***<br>\n",
    "acting, alohas, animate, answer, assays, booties, careens, certain, char, closest, curious, curtain, deletion, diatom, drudge, eatery, emotion, engineer, face, feted, filial, found, from, futile, goodies, graders, groups, grunted, help, hired, holds, home, how, kind, king, liaising, lustiness, mopes, opinion, passion, place, prerent, pursust, rather, raucous, really, rebind, seduce, serpent, shiner, skool, sluices, sounded, spotter, stink, sublets, third, thy, traced, travel, unfair, virtue, vow, way, weird, **who*, words, world, would, \n",
    "\n",
    "\n",
    "***10: SUBTRACT***<br>\n",
    "abalones, abstruse, another, arctic, arrives, besides, business, centaurs, daggers, damned, discuss, duncans, epistles, escape, festers, flame, flips, fuessli, futures, gloves, greeting, hath, have, horatio, include, irregular, kings, labourd, lack, maleness, mirth, neck, pagoda, planted, prove, reality, refuses, resolve, separate, should, standard, suitable, theme, thereto, they, things, very, warned, what, wife, with, worries, \n",
    "\n",
    "***11: SWAP***<br>\n",
    "advises, allowed, anklets, arrived, audience, awful, before, beware, blamed, bother, buttered, continues, cutlasses, draftee, drugged, escapes, forces, forth, hamlet, hearing, illiterates, just, killed, know, might, much, nothing, peaks, placed, reported, resolves, scotland, smearing, waiting, while, whose, work, \n",
    "\n",
    "***12: DUPLICATE***<br>\n",
    "abandonin, accords, always, antinormal, back, become, between, careful, change, clarity, concerns, conduct, continued, convene, crying, decided, dilemma, discusses, dismisses, distressed, donalbain, doubtless, droppin, epilogues, father, fleance, foolings, forced, growing, helical, holding, iceleaf, imperial, imposed, killing, known, maybe, messenger, murderers, norway, observe, prithee, rebellious, regardless, rewiring, risking, schools, sometime, speaks, swelling, systems, talking, terrariums, think, transfers, trumpets, tumbled, unmarried, unsinewd, vanish, why, works, \n",
    "\n",
    "***16: SKIP_BACK_NONZERO***<br>\n",
    "chamber, conjure, cuckold, entombment, falsehood, fighting, germicides, harbingers, heavily, heinrich, importance, johann, justice, justly, kinking, macbeth, marching, pantheism, pronouncing, slaughtered, switcher, thinking, vagabonds, veterinary, **whether*, **which*, \n",
    "\n",
    "***17: STOP***<br>\n",
    "abstractly, accelerations, accuracy, accurately, achieved, actionoriented, admittedly, affected, aftermath, alexander, alqaeda, ambivalent, antiaircraft, anxiety, anywhere, apparently, application, approach, arquilla, atmosphere, azcona, banquo, behaviors, butterfly, capacity, capitalisms, characters, chronicles, climax, codependent, coexists, collective, combatantsa, commenting, compelling, complicit, conceived, concentration, condemnation, confirmed, conglomerate, connective, considerable, consistently, constitutive, consumption, conventional, conversation, convinced, crosscutting, demonstrating, developing, discovered, drastically, electrocution, emergency, empathy, encrypted, especially, established, evolutionism, exceeds, explains, explode, explores, extraordi, extremes, firstworld, fragmented, functioning, fundamental, gentlewoman, geopolitical, hegemonic, hegemony, holinsheds, hopelessness, humanitarian, immemory, insightful, interestingly, interpretations, investigation, investigators, irresolvable, jack, jamesons, johnson, judith, locomotive, macbeths, manchester, manchurian, martyrdom, maxima, nectivity, neoliberalism, networked, noticeably, object, officials, omnipotence, omniscience, pamphlet, parallax, participant, participate, perceived, performed, peripheral, phenomenon, physics, popularity, positivism, possibilities, posthumous, privileged, proamerican, probably, provokes, publication, published, question, realityloops, realpolitik, recalibration, redundancy, reinforcing, relationship, reproduction, respective, scientific, sensitivity, significant, simultaneity, sketches, specific, successful, symptoms, systemmore, technician, temporally, terrifying, throughout, transformed, triumphant, ubiqui, unmatched, vividly, warsyrianas, washington, whilethe, widespread, worldwide, "
   ]
  }
 ],
 "metadata": {
  "kernelspec": {
   "display_name": "Python 3",
   "language": "python",
   "name": "python3"
  },
  "language_info": {
   "codemirror_mode": {
    "name": "ipython",
    "version": 3
   },
   "file_extension": ".py",
   "mimetype": "text/x-python",
   "name": "python",
   "nbconvert_exporter": "python",
   "pygments_lexer": "ipython3",
   "version": "3.8.3"
  }
 },
 "nbformat": 4,
 "nbformat_minor": 4
}
