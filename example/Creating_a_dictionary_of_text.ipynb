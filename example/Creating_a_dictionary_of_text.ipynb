{
 "cells": [
  {
   "cell_type": "markdown",
   "metadata": {},
   "source": [
    "## Creating a dictionary of text\n",
    "\n",
    "this python notebook is dedicated to list the scrabble value of given text."
   ]
  },
  {
   "cell_type": "code",
   "execution_count": 3,
   "metadata": {},
   "outputs": [
    {
     "data": {
      "application/vnd.jupyter.widget-view+json": {
       "model_id": "0324f5410fb0450f9219010d70e27b69",
       "version_major": 2,
       "version_minor": 0
      },
      "text/plain": [
       "interactive(children=(Text(value=' ', description='input_text'), Output()), _dom_classes=('widget-interact',))"
      ]
     },
     "metadata": {},
     "output_type": "display_data"
    }
   ],
   "source": [
    "from __future__ import print_function\n",
    "import ipywidgets as widgets\n",
    "from ipywidgets import interact, interactive, fixed, interact_manual\n",
    "from ipywidgets import Button, Layout, Textarea, HBox, VBox\n",
    "from beatnik import beatnik_simple\n",
    "from beatnik import beatnik_stack\n",
    "from beatnik import preprocess\n",
    "\n",
    "def scrabble(word):\n",
    "    SCRABBLE = {\n",
    "        'A': 1,'B': 3,'C': 3,'D': 2,'E': 1,'F': 4,'G': 2,\n",
    "        'H': 4,'I': 1,'J': 8,'K': 5,'L': 1,'M': 3,'N': 1,\n",
    "        'O': 1,'P': 3,'Q': 10,'R': 1,'S': 1,'T': 1,'U': 1,\n",
    "        'V': 4,'W': 4,'X': 8,'Y': 4,'Z': 10}\n",
    "    acc = 0\n",
    "    for c in word.upper():\n",
    "        acc += SCRABBLE[c]\n",
    "    return acc\n",
    "\n",
    "\n",
    "def f(input_text):\n",
    "    token = preprocess(input_text)\n",
    "    for w in token:\n",
    "        print(w,scrabble(w))\n",
    "\n",
    "interact(f, input_text=' ');"
   ]
  },
  {
   "cell_type": "code",
   "execution_count": null,
   "metadata": {},
   "outputs": [],
   "source": []
  }
 ],
 "metadata": {
  "kernelspec": {
   "display_name": "Python 3",
   "language": "python",
   "name": "python3"
  },
  "language_info": {
   "codemirror_mode": {
    "name": "ipython",
    "version": 3
   },
   "file_extension": ".py",
   "mimetype": "text/x-python",
   "name": "python",
   "nbconvert_exporter": "python",
   "pygments_lexer": "ipython3",
   "version": "3.8.3"
  }
 },
 "nbformat": 4,
 "nbformat_minor": 4
}
