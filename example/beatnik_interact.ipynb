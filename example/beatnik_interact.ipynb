{
 "cells": [
  {
   "cell_type": "code",
   "execution_count": 5,
   "metadata": {
    "scrolled": true
   },
   "outputs": [
    {
     "name": "stdout",
     "output_type": "stream",
     "text": [
      "Requirement already satisfied: beatnik in /Users/AprilCoffee/opt/anaconda3/lib/python3.8/site-packages (0.5)\n",
      "Collecting beatnik\n",
      "  Downloading beatnik-0.61.tar.gz (2.9 kB)\n",
      "Requirement already satisfied: numpy in /Users/AprilCoffee/opt/anaconda3/lib/python3.8/site-packages (from beatnik) (1.18.5)\n",
      "Building wheels for collected packages: beatnik\n",
      "  Building wheel for beatnik (setup.py) ... \u001b[?25ldone\n",
      "\u001b[?25h  Created wheel for beatnik: filename=beatnik-0.61-py3-none-any.whl size=3685 sha256=7a072ff73b8700f0ebcd72514f2d4ae940941ecba82c392fc2ef710af1fcde2b\n",
      "  Stored in directory: /Users/AprilCoffee/Library/Caches/pip/wheels/13/c1/f7/676423b40e02cdc0fdfec45aa224d386188f9010444bbd5bc6\n",
      "Successfully built beatnik\n",
      "Installing collected packages: beatnik\n",
      "  Attempting uninstall: beatnik\n",
      "    Found existing installation: beatnik 0.5\n",
      "    Uninstalling beatnik-0.5:\n",
      "      Successfully uninstalled beatnik-0.5\n",
      "Successfully installed beatnik-0.61\n"
     ]
    }
   ],
   "source": [
    "!pip install beatnik --upgrade"
   ]
  },
  {
   "cell_type": "code",
   "execution_count": 14,
   "metadata": {},
   "outputs": [
    {
     "data": {
      "application/vnd.jupyter.widget-view+json": {
       "model_id": "f0653c914a964b8e89fbbc033823debe",
       "version_major": 2,
       "version_minor": 0
      },
      "text/plain": [
       "interactive(children=(Text(value=' ', description='input_text'), Output()), _dom_classes=('widget-interact',))"
      ]
     },
     "metadata": {},
     "output_type": "display_data"
    }
   ],
   "source": [
    "#from beatnik import *\n",
    "\n",
    "from __future__ import print_function\n",
    "from ipywidgets import interact, interactive, fixed, interact_manual\n",
    "import ipywidgets as widgets\n",
    "\n",
    "def f(input_text):\n",
    "    #return 1\n",
    "    return beatnik(input_text,debug=False)\n",
    "\n",
    "interact(f, input_text=' ');"
   ]
  },
  {
   "cell_type": "code",
   "execution_count": 10,
   "metadata": {},
   "outputs": [
    {
     "ename": "TypeError",
     "evalue": "'module' object is not callable",
     "output_type": "error",
     "traceback": [
      "\u001b[0;31m---------------------------------------------------------------------------\u001b[0m",
      "\u001b[0;31mTypeError\u001b[0m                                 Traceback (most recent call last)",
      "\u001b[0;32m<ipython-input-10-c72846f1f511>\u001b[0m in \u001b[0;36m<module>\u001b[0;34m\u001b[0m\n\u001b[0;32m----> 1\u001b[0;31m \u001b[0;32mfrom\u001b[0m \u001b[0mbeatnik\u001b[0m \u001b[0;32mimport\u001b[0m \u001b[0;34m*\u001b[0m\u001b[0;34m\u001b[0m\u001b[0;34m\u001b[0m\u001b[0m\n\u001b[0m",
      "\u001b[0;32m~/Nextcloud/exMedia_Machines/ting/Beatnik/beatnik/example/beatnik.py\u001b[0m in \u001b[0;36m<module>\u001b[0;34m\u001b[0m\n\u001b[1;32m     18\u001b[0m \u001b[0;34m\u001b[0m\u001b[0m\n\u001b[1;32m     19\u001b[0m \u001b[0;31m#show the process of stack machine\u001b[0m\u001b[0;34m\u001b[0m\u001b[0;34m\u001b[0m\u001b[0;34m\u001b[0m\u001b[0m\n\u001b[0;32m---> 20\u001b[0;31m \u001b[0mbeatnik\u001b[0m\u001b[0;34m.\u001b[0m\u001b[0mbeatnik\u001b[0m\u001b[0;34m(\u001b[0m\u001b[0mtext\u001b[0m\u001b[0;34m,\u001b[0m\u001b[0mdebug\u001b[0m\u001b[0;34m=\u001b[0m\u001b[0;32mTrue\u001b[0m\u001b[0;34m)\u001b[0m\u001b[0;34m\u001b[0m\u001b[0;34m\u001b[0m\u001b[0m\n\u001b[0m\u001b[1;32m     21\u001b[0m \u001b[0;34m\u001b[0m\u001b[0m\n\u001b[1;32m     22\u001b[0m \u001b[0;31m#Only showing the end result\u001b[0m\u001b[0;34m\u001b[0m\u001b[0;34m\u001b[0m\u001b[0;34m\u001b[0m\u001b[0m\n",
      "\u001b[0;31mTypeError\u001b[0m: 'module' object is not callable"
     ]
    }
   ],
   "source": [
    "from beatnik import *\n"
   ]
  },
  {
   "cell_type": "code",
   "execution_count": null,
   "metadata": {},
   "outputs": [],
   "source": []
  }
 ],
 "metadata": {
  "kernelspec": {
   "display_name": "Python 3",
   "language": "python",
   "name": "python3"
  },
  "language_info": {
   "codemirror_mode": {
    "name": "ipython",
    "version": 3
   },
   "file_extension": ".py",
   "mimetype": "text/x-python",
   "name": "python",
   "nbconvert_exporter": "python",
   "pygments_lexer": "ipython3",
   "version": "3.8.3"
  }
 },
 "nbformat": 4,
 "nbformat_minor": 4
}
