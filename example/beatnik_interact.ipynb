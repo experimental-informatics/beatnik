{
 "cells": [
  {
   "cell_type": "markdown",
   "metadata": {},
   "source": [
    "# Beatnik\n",
    "\n",
    "The page is an example file of beatnik usage in python notebook.\n",
    "\n",
    "For more information, please check the github page\n",
    "https://github.com/experimental-informatics/beatnik"
   ]
  },
  {
   "cell_type": "markdown",
   "metadata": {},
   "source": [
    "### Installing "
   ]
  },
  {
   "cell_type": "code",
   "execution_count": 1,
   "metadata": {},
   "outputs": [
    {
     "name": "stdout",
     "output_type": "stream",
     "text": [
      "Requirement already satisfied: beatnik in /Users/AprilCoffee/opt/anaconda3/lib/python3.8/site-packages (0.77)\n",
      "Collecting beatnik\n",
      "  Using cached beatnik-0.791.tar.gz (4.9 kB)\n",
      "\u001b[31m    ERROR: Command errored out with exit status 1:\n",
      "     command: /Users/AprilCoffee/opt/anaconda3/bin/python -c 'import io, os, sys, setuptools, tokenize; sys.argv[0] = '\"'\"'/private/var/folders/m9/vxx8bptx43vd5m8sz60pmb900000gn/T/pip-install-tm86ranl/beatnik_7bb215d55bab4f9d8b1d00b92014afbe/setup.py'\"'\"'; __file__='\"'\"'/private/var/folders/m9/vxx8bptx43vd5m8sz60pmb900000gn/T/pip-install-tm86ranl/beatnik_7bb215d55bab4f9d8b1d00b92014afbe/setup.py'\"'\"';f = getattr(tokenize, '\"'\"'open'\"'\"', open)(__file__) if os.path.exists(__file__) else io.StringIO('\"'\"'from setuptools import setup; setup()'\"'\"');code = f.read().replace('\"'\"'\\r\\n'\"'\"', '\"'\"'\\n'\"'\"');f.close();exec(compile(code, __file__, '\"'\"'exec'\"'\"'))' egg_info --egg-base /private/var/folders/m9/vxx8bptx43vd5m8sz60pmb900000gn/T/pip-pip-egg-info-n1fky075\n",
      "         cwd: /private/var/folders/m9/vxx8bptx43vd5m8sz60pmb900000gn/T/pip-install-tm86ranl/beatnik_7bb215d55bab4f9d8b1d00b92014afbe/\n",
      "    Complete output (7 lines):\n",
      "    Traceback (most recent call last):\n",
      "      File \"<string>\", line 1, in <module>\n",
      "      File \"/private/var/folders/m9/vxx8bptx43vd5m8sz60pmb900000gn/T/pip-install-tm86ranl/beatnik_7bb215d55bab4f9d8b1d00b92014afbe/setup.py\", line 7, in <module>\n",
      "        with open(path.join(here, 'docs/README.md'), encoding='utf-8') as f:\n",
      "      File \"/Users/AprilCoffee/opt/anaconda3/lib/python3.8/codecs.py\", line 905, in open\n",
      "        file = builtins.open(filename, mode, buffering)\n",
      "    FileNotFoundError: [Errno 2] No such file or directory: '/private/var/folders/m9/vxx8bptx43vd5m8sz60pmb900000gn/T/pip-install-tm86ranl/beatnik_7bb215d55bab4f9d8b1d00b92014afbe/docs/README.md'\n",
      "    ----------------------------------------\u001b[0m\n",
      "\u001b[33mWARNING: Discarding https://files.pythonhosted.org/packages/29/c3/8c7c2da2c91d2a57a4a44c420f0f2dc0317363a746e5cf03d15ef47f3604/beatnik-0.791.tar.gz#sha256=44780270c475fe87a1840996d65eb434c9862ba9d87853c077d498910ea7751f (from https://pypi.org/simple/beatnik/). Command errored out with exit status 1: python setup.py egg_info Check the logs for full command output.\u001b[0m\n",
      "  Using cached beatnik-0.79.tar.gz (4.9 kB)\n",
      "\u001b[31m    ERROR: Command errored out with exit status 1:\n",
      "     command: /Users/AprilCoffee/opt/anaconda3/bin/python -c 'import io, os, sys, setuptools, tokenize; sys.argv[0] = '\"'\"'/private/var/folders/m9/vxx8bptx43vd5m8sz60pmb900000gn/T/pip-install-tm86ranl/beatnik_94e85c5fb90d41f8b7cd7284a0a77b2f/setup.py'\"'\"'; __file__='\"'\"'/private/var/folders/m9/vxx8bptx43vd5m8sz60pmb900000gn/T/pip-install-tm86ranl/beatnik_94e85c5fb90d41f8b7cd7284a0a77b2f/setup.py'\"'\"';f = getattr(tokenize, '\"'\"'open'\"'\"', open)(__file__) if os.path.exists(__file__) else io.StringIO('\"'\"'from setuptools import setup; setup()'\"'\"');code = f.read().replace('\"'\"'\\r\\n'\"'\"', '\"'\"'\\n'\"'\"');f.close();exec(compile(code, __file__, '\"'\"'exec'\"'\"'))' egg_info --egg-base /private/var/folders/m9/vxx8bptx43vd5m8sz60pmb900000gn/T/pip-pip-egg-info-185zro3d\n",
      "         cwd: /private/var/folders/m9/vxx8bptx43vd5m8sz60pmb900000gn/T/pip-install-tm86ranl/beatnik_94e85c5fb90d41f8b7cd7284a0a77b2f/\n",
      "    Complete output (7 lines):\n",
      "    Traceback (most recent call last):\n",
      "      File \"<string>\", line 1, in <module>\n",
      "      File \"/private/var/folders/m9/vxx8bptx43vd5m8sz60pmb900000gn/T/pip-install-tm86ranl/beatnik_94e85c5fb90d41f8b7cd7284a0a77b2f/setup.py\", line 7, in <module>\n",
      "        with open(path.join(here, 'docs/README.md'), encoding='utf-8') as f:\n",
      "      File \"/Users/AprilCoffee/opt/anaconda3/lib/python3.8/codecs.py\", line 905, in open\n",
      "        file = builtins.open(filename, mode, buffering)\n",
      "    FileNotFoundError: [Errno 2] No such file or directory: '/private/var/folders/m9/vxx8bptx43vd5m8sz60pmb900000gn/T/pip-install-tm86ranl/beatnik_94e85c5fb90d41f8b7cd7284a0a77b2f/docs/README.md'\n",
      "    ----------------------------------------\u001b[0m\n",
      "\u001b[33mWARNING: Discarding https://files.pythonhosted.org/packages/c3/3b/6ff80348b93e50bd4cda5647f030447c5c9f2d9b6c6c7928f6ce288c895e/beatnik-0.79.tar.gz#sha256=05e590e57099330dbc04d683bc09ab1b5bed028940b2940548557e8b20bdf758 (from https://pypi.org/simple/beatnik/). Command errored out with exit status 1: python setup.py egg_info Check the logs for full command output.\u001b[0m\n",
      "  Using cached beatnik-0.78.tar.gz (4.9 kB)\n",
      "\u001b[31m    ERROR: Command errored out with exit status 1:\n",
      "     command: /Users/AprilCoffee/opt/anaconda3/bin/python -c 'import io, os, sys, setuptools, tokenize; sys.argv[0] = '\"'\"'/private/var/folders/m9/vxx8bptx43vd5m8sz60pmb900000gn/T/pip-install-tm86ranl/beatnik_b0d132d7c7464604b65d81622035b31d/setup.py'\"'\"'; __file__='\"'\"'/private/var/folders/m9/vxx8bptx43vd5m8sz60pmb900000gn/T/pip-install-tm86ranl/beatnik_b0d132d7c7464604b65d81622035b31d/setup.py'\"'\"';f = getattr(tokenize, '\"'\"'open'\"'\"', open)(__file__) if os.path.exists(__file__) else io.StringIO('\"'\"'from setuptools import setup; setup()'\"'\"');code = f.read().replace('\"'\"'\\r\\n'\"'\"', '\"'\"'\\n'\"'\"');f.close();exec(compile(code, __file__, '\"'\"'exec'\"'\"'))' egg_info --egg-base /private/var/folders/m9/vxx8bptx43vd5m8sz60pmb900000gn/T/pip-pip-egg-info-yh2qro31\n",
      "         cwd: /private/var/folders/m9/vxx8bptx43vd5m8sz60pmb900000gn/T/pip-install-tm86ranl/beatnik_b0d132d7c7464604b65d81622035b31d/\n",
      "    Complete output (7 lines):\n",
      "    Traceback (most recent call last):\n",
      "      File \"<string>\", line 1, in <module>\n",
      "      File \"/private/var/folders/m9/vxx8bptx43vd5m8sz60pmb900000gn/T/pip-install-tm86ranl/beatnik_b0d132d7c7464604b65d81622035b31d/setup.py\", line 7, in <module>\n",
      "        with open(path.join(here, 'docs/README.md'), encoding='utf-8') as f:\n",
      "      File \"/Users/AprilCoffee/opt/anaconda3/lib/python3.8/codecs.py\", line 905, in open\n",
      "        file = builtins.open(filename, mode, buffering)\n",
      "    FileNotFoundError: [Errno 2] No such file or directory: '/private/var/folders/m9/vxx8bptx43vd5m8sz60pmb900000gn/T/pip-install-tm86ranl/beatnik_b0d132d7c7464604b65d81622035b31d/docs/README.md'\n",
      "    ----------------------------------------\u001b[0m\n",
      "\u001b[33mWARNING: Discarding https://files.pythonhosted.org/packages/36/2d/a6c8aca89a84788d0af71866eb9f9f7050c50c5687d6c050d977ec8e7586/beatnik-0.78.tar.gz#sha256=ec118bd7503cafd3e29d31e823bc9a1721cd94fa0620747fa3fedba7193cd02c (from https://pypi.org/simple/beatnik/). Command errored out with exit status 1: python setup.py egg_info Check the logs for full command output.\u001b[0m\n",
      "Requirement already satisfied: numpy in /Users/AprilCoffee/opt/anaconda3/lib/python3.8/site-packages (from beatnik) (1.18.5)\n",
      "\u001b[33mWARNING: You are using pip version 21.1.2; however, version 21.1.3 is available.\n",
      "You should consider upgrading via the '/Users/AprilCoffee/opt/anaconda3/bin/python -m pip install --upgrade pip' command.\u001b[0m\n"
     ]
    }
   ],
   "source": [
    "!pip install beatnik --upgrade"
   ]
  },
  {
   "cell_type": "markdown",
   "metadata": {},
   "source": [
    "### Simple Usage of Beatnik simple"
   ]
  },
  {
   "cell_type": "code",
   "execution_count": 3,
   "metadata": {},
   "outputs": [
    {
     "data": {
      "application/vnd.jupyter.widget-view+json": {
       "model_id": "95b7a06dbea543a5b05f0d6e77fb0d20",
       "version_major": 2,
       "version_minor": 0
      },
      "text/plain": [
       "interactive(children=(Text(value=' ', description='input_text'), Output()), _dom_classes=('widget-interact',))"
      ]
     },
     "metadata": {},
     "output_type": "display_data"
    }
   ],
   "source": [
    "from __future__ import print_function\n",
    "from ipywidgets import interact, interactive, fixed, interact_manual\n",
    "import ipywidgets as widgets\n",
    "from beatnik import beatnik_simple\n",
    "from beatnik import beatnik_stack\n",
    "\n",
    "\n",
    "def f(input_text):\n",
    "    return beatnik_simple(input_text,debug=True)\n",
    "\n",
    "interact(f, input_text=' ');"
   ]
  },
  {
   "cell_type": "code",
   "execution_count": null,
   "metadata": {},
   "outputs": [],
   "source": []
  }
 ],
 "metadata": {
  "kernelspec": {
   "display_name": "Python 3",
   "language": "python",
   "name": "python3"
  },
  "language_info": {
   "codemirror_mode": {
    "name": "ipython",
    "version": 3
   },
   "file_extension": ".py",
   "mimetype": "text/x-python",
   "name": "python",
   "nbconvert_exporter": "python",
   "pygments_lexer": "ipython3",
   "version": "3.8.3"
  }
 },
 "nbformat": 4,
 "nbformat_minor": 4
}
